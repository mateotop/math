{
 "cells": [
  {
   "cell_type": "markdown",
   "metadata": {},
   "source": [
    "# Chapter 2: Probability \n",
    "\n",
    "На русском - вероятность  "
   ]
  },
  {
   "cell_type": "markdown",
   "metadata": {},
   "source": [
    "## 02. The Monty Hail Problem\n",
    "\n",
    "Оказывается известный пример из трех дверей и прза, называетс проблема Monty Hail \n",
    "\n",
    "В чем суть. \n",
    "Есть три двери, заодной из них приз. Пока 33% на каждой двери. \n",
    "\n",
    "Ведущий открывае одну из двеей, где приз нет. По идеи веротность должна быть 50% на 50% у оставщихся, но нет. Дверь которую мы не выбрали забрала все эти 33%. \n",
    "\n",
    "Почему так? Чтобы ответить, разыграем этот же сценарий, но дверей будет 1000, приз все еще один. Допусти, вудущий открыл 998 дверй, где приза нет. Осталсь наша дверь и дверь, которую вудещий не откыл. В этом приемере, кажется логичней выбор изменть. \n",
    "\n",
    "На мой взгляд, пример противоречивый. Не думаю, что я такой один. Когда дверей много, действительно вероятность больше на той, что мы не выбрали. Но когда дверей  всего три, то здесь скорее 50 на 50%.\n",
    "\n",
    "Получается здесь необычная исория. \n",
    "При масштабировании формула работает, а при малом колличестве парамеров - нет. "
   ]
  },
  {
   "cell_type": "code",
   "execution_count": 43,
   "metadata": {},
   "outputs": [
    {
     "name": "stdout",
     "output_type": "stream",
     "text": [
      "2\n",
      "Частота побед\n",
      "Не менять дверь |     0.3287\n",
      "Изменить выбор  |     0.6713\n"
     ]
    }
   ],
   "source": [
    "from random import randint\n",
    "\n",
    "total_doors = 3\n",
    "\n",
    "def random_door():\n",
    "    return randint(1, total_doors)\n",
    "\n",
    "print(random_door())\n",
    "\n",
    "trial_count = 10000\n",
    "\n",
    "stay_wins = 0\n",
    "switch_wins = 0\n",
    "\n",
    "for i in range(0, trial_count):\n",
    "    prize_door = random_door()\n",
    "    selected_door = random_door()\n",
    "    opened_door = list(d for d in range(1, total_doors+1) if d != selected_door and d != prize_door)[0]\n",
    "    switch_door = list(d for d in range(1, total_doors+1) if d != selected_door and d != opened_door)[0]\n",
    "\n",
    "    if selected_door == prize_door:\n",
    "        stay_wins += 1\n",
    "    \n",
    "    if switch_door == prize_door:\n",
    "        switch_wins += 1\n",
    "\n",
    "# stay_wins_rate = float(stay_wins)/float(trial_count)\n",
    "stay_wins_rate = stay_wins/trial_count\n",
    "switch_wins_rate = float(switch_wins)/float(trial_count)\n",
    "print('Частота побед')\n",
    "print(F\"Не менять дверь | {stay_wins_rate:10}\")\n",
    "print(f\"Изменить выбор  | {switch_wins_rate:10}\")"
   ]
  }
 ],
 "metadata": {
  "kernelspec": {
   "display_name": "math-python-I7hs7iaZ-py3.11",
   "language": "python",
   "name": "python3"
  },
  "language_info": {
   "codemirror_mode": {
    "name": "ipython",
    "version": 3
   },
   "file_extension": ".py",
   "mimetype": "text/x-python",
   "name": "python",
   "nbconvert_exporter": "python",
   "pygments_lexer": "ipython3",
   "version": "3.11.5"
  },
  "orig_nbformat": 4
 },
 "nbformat": 4,
 "nbformat_minor": 2
}
