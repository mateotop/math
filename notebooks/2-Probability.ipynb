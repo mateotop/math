{
 "cells": [
  {
   "cell_type": "markdown",
   "metadata": {},
   "source": [
    "# Chapter 2: Probability\n",
    "\n",
    "На русском - вероятность\n"
   ]
  },
  {
   "cell_type": "markdown",
   "metadata": {},
   "source": [
    "## 02. The Monty Hail Problem\n",
    "\n",
    "Оказывается известный пример из трех дверей и прза, называетс проблема Monty Hail\n",
    "\n",
    "В чем суть.\n",
    "Есть три двери, заодной из них приз. Пока 33% на каждой двери.\n",
    "\n",
    "Ведущий открывае одну из двеей, где приз нет. По идеи веротность должна быть 50% на 50% у оставщихся, но нет. Дверь которую мы не выбрали забрала все эти 33%.\n",
    "\n",
    "Почему так? Чтобы ответить, разыграем этот же сценарий, но дверей будет 1000, приз все еще один. Допусти, вудущий открыл 998 дверй, где приза нет. Осталсь наша дверь и дверь, которую вудещий не откыл. В этом приемере, кажется логичней выбор изменть.\n",
    "\n",
    "На мой взгляд, пример противоречивый. Не думаю, что я такой один. Когда дверей много, действительно вероятность больше на той, что мы не выбрали. Но когда дверей всего три, то здесь скорее 50 на 50%.\n",
    "\n",
    "Получается здесь необычная исория.\n",
    "При масштабировании формула работает, а при малом колличестве парамеров - нет.\n"
   ]
  },
  {
   "cell_type": "code",
   "execution_count": 43,
   "metadata": {},
   "outputs": [
    {
     "name": "stdout",
     "output_type": "stream",
     "text": [
      "2\n",
      "Частота побед\n",
      "Не менять дверь |     0.3287\n",
      "Изменить выбор  |     0.6713\n"
     ]
    }
   ],
   "source": [
    "from random import randint\n",
    "\n",
    "total_doors = 3\n",
    "\n",
    "def random_door():\n",
    "    return randint(1, total_doors)\n",
    "\n",
    "\n",
    "trial_count = 10000\n",
    "\n",
    "stay_wins = 0\n",
    "switch_wins = 0\n",
    "\n",
    "for i in range(0, trial_count):\n",
    "    prize_door = random_door()\n",
    "    selected_door = random_door()\n",
    "    opened_door = list(d for d in range(1, total_doors+1) if d != selected_door and d != prize_door)[0]\n",
    "    switch_door = list(d for d in range(1, total_doors+1) if d != selected_door and d != opened_door)[0]\n",
    "\n",
    "    if selected_door == prize_door:\n",
    "        stay_wins += 1\n",
    "    \n",
    "    if switch_door == prize_door:\n",
    "        switch_wins += 1\n",
    "\n",
    "# stay_wins_rate = float(stay_wins)/float(trial_count)\n",
    "stay_wins_rate = stay_wins/trial_count\n",
    "switch_wins_rate = float(switch_wins)/float(trial_count)\n",
    "print('Частота побед')\n",
    "print(F\"Не менять дверь | {stay_wins_rate:10}\")\n",
    "print(f\"Изменить выбор  | {switch_wins_rate:10}\")"
   ]
  },
  {
   "cell_type": "markdown",
   "metadata": {},
   "source": [
    "Итого: по какой-то причине рандом говорт, что теория потвреждается.\n"
   ]
  },
  {
   "cell_type": "markdown",
   "metadata": {},
   "source": [
    "---\n"
   ]
  },
  {
   "cell_type": "markdown",
   "metadata": {},
   "source": [
    "## Joint Probabilities\n",
    "\n",
    "История про вероятность двух не влиящих друг на дргуа событий.\n",
    "\n",
    "Например, одновременное выпадение шестерки на кубе и орла на монетке.\n",
    "\n",
    "Чтобы найти вероятность нужно:\n",
    "\n",
    "1. Найти вероятность выпадения шестерки\n",
    "1. Найти вероятность выпадения орла\n",
    "1. Перемножить найденые вероятности\n",
    "\n",
    "$$\n",
    "P(орла)=\\frac{1}{2} \\\\\n",
    "P(шестрки на кубе)=\\frac{1}{6}  \\\\\n",
    "P(Орел+шестерка)=\\frac{1}{2}*\\frac{1}{6} = \\frac{1}{12} \\\\\n",
    "$$\n",
    "\n",
    "В обычном тервере, мы бы сами нарисовали или визуализировали, но Python может сделать это все за нас, еще и проэксперементировать сможет:\n"
   ]
  },
  {
   "cell_type": "code",
   "execution_count": 3,
   "metadata": {},
   "outputs": [
    {
     "name": "stdout",
     "output_type": "stream",
     "text": [
      "Вероятсность = 0.08333333333333333\n",
      "\n",
      "Все возможные события:\n",
      "[('H', 1), ('H', 2), ('H', 3), ('H', 4), ('H', 5), ('H', 6)]\n",
      "[('T', 1), ('T', 2), ('T', 3), ('T', 4), ('T', 5), ('T', 6)]\n"
     ]
    }
   ],
   "source": [
    "# Возможные события монеты, кубика\n",
    "coin_outcome = [\"H\", \"T\"] # Орел и решка на английском → Head & Tails \n",
    "die_outcome = [1, 2, 3, 4, 5, 6]\n",
    "\n",
    "# Совместные веростяности\n",
    "all_combinations = [(c, d) for c in coin_outcome for d in die_outcome]\n",
    "\n",
    "# На всякий проверим сколько удачных событий \n",
    "head_and_6 = [ t for t in all_combinations if t[0] == 'H' and t[-1] == 6]\n",
    "\n",
    "p = len(head_and_6) / len(all_combinations)\n",
    "print(f'Вероятсность = {p}')\n",
    "print()\n",
    "print('Все возможные события:')\n",
    "print(all_combinations[:6])\n",
    "print(all_combinations[6:])"
   ]
  },
  {
   "cell_type": "markdown",
   "metadata": {},
   "source": [
    "> Любопытный факт: Почему орел это Heads?  \n",
    "> Обычно на одной из сторон монеты изображен какой-то глава государства или просто важный тип.  \n",
    "> Heads так же означает глава чего-то.\n"
   ]
  },
  {
   "cell_type": "markdown",
   "metadata": {},
   "source": [
    "Каковая вероятность выкинуть 6 десять раз подряд?\n",
    "\n",
    "Нужно вероятность одного броска возвести в степень кол-во бросков\n"
   ]
  },
  {
   "cell_type": "code",
   "execution_count": 20,
   "metadata": {},
   "outputs": [
    {
     "name": "stdout",
     "output_type": "stream",
     "text": [
      "Вероятность одного броска 0.16666666666666666\n",
      "Вероятность 10 подряд     0.000000016538172\n"
     ]
    }
   ],
   "source": [
    "# Вероятность одного броска \n",
    "p = 1 / 6\n",
    "p_10_sixes = p ** 10\n",
    "\n",
    "print('Вероятность одного броска', p)\n",
    "print('Вероятность 10 подряд    ', f'{p_10_sixes:.15f}')"
   ]
  },
  {
   "cell_type": "markdown",
   "metadata": {},
   "source": [
    "---"
   ]
  },
  {
   "cell_type": "markdown",
   "metadata": {},
   "source": [
    "## Union Probability\n",
    "\n",
    "Какова вероятность выпадения **или** орла **или** шестерки?\n",
    "\n",
    "$$\n",
    "P(A [or] B) = P(A) + P(B) - P(A _and_ B)  \n",
    "$$\n",
    "\n",
    "Визуализация подходящих исходов:  \n",
    "**('H', 1), ('H', 2), ('H', 3), ('H', 4), ('H', 5),** `('H', 6)`   \n",
    "('T', 1), ('T', 2), ('T', 3), ('T', 4), ('T', 5), **('T', 6)**  \n",
    "\n",
    "Расчет по формуле:  \n",
    "P(_орел или шесь_) = $\\frac{1}{2}+\\frac{1}{12}-(\\frac{1}{2}*\\frac{1}{12})=\\frac{7}{12}$  \n",
    "\n",
    "\n",
    "_То есть мы нашли когда выпадает или то или другое и вычли ???_\n",
    "\n",
    "\n",
    "> This is knows as the **`sum rule`**, where we can  find the` OR porbability` between two or more events by summing them and then substracting their `joint probability`  \n",
    "\n",
    "В этом примере `joint probability` = 0, пэтому на результат оно не влияет\n",
    "\n",
    "---\n",
    "_Пометки обозначений. Синтаксис_\n",
    "\n",
    "P(A $\\cup$ B)  \n",
    "P(A or B)  \n",
    "\n",
    "or $\\lor$   \n",
    "union - $\\cup$  \n",
    "**non-mutually exclusive** - не исключающие друг друга\n"
   ]
  },
  {
   "cell_type": "markdown",
   "metadata": {},
   "source": [
    "---"
   ]
  },
  {
   "cell_type": "markdown",
   "metadata": {},
   "source": [
    "## Conditional Probability \n",
    "\n",
    "P(A|B)  ← Пишется  \n",
    "P(A given B) ← Читается\n",
    "\n",
    "Приер про дальтоников:   \n",
    "- У людй 0.04% \n",
    "- У мужчины 0.08%\n",
    "\n",
    "P(Муж) = 0.5  \n",
    "P(colorblind) = 0.0425  \n",
    "P(Colorblind given male ) = 0.08  \n",
    "\n",
    "P(муд и дальтонизм) = P(муж) * P(дальтонизм given муж)  \n",
    "P(дальтонизм and муж) = 0.5 * 0.08 = 0.004\n",
    "\n",
    "Формула:\n",
    "\n",
    "P(A and B) = P(A) * P(B given A)  \n",
    "P(A or B) = P(A) + P(B) - P(A) * P(B given A)"
   ]
  }
 ],
 "metadata": {
  "kernelspec": {
   "display_name": "math-python-I7hs7iaZ-py3.11",
   "language": "python",
   "name": "python3"
  },
  "language_info": {
   "codemirror_mode": {
    "name": "ipython",
    "version": 3
   },
   "file_extension": ".py",
   "mimetype": "text/x-python",
   "name": "python",
   "nbconvert_exporter": "python",
   "pygments_lexer": "ipython3",
   "version": "3.11.5"
  },
  "orig_nbformat": 4
 },
 "nbformat": 4,
 "nbformat_minor": 2
}
